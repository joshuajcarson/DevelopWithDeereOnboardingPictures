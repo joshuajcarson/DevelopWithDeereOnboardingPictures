{
  "nbformat": 4,
  "nbformat_minor": 0,
  "metadata": {
    "colab": {
      "name": "MyJohnDeere API Onboarding.ipynb",
      "version": "0.3.2",
      "provenance": [],
      "collapsed_sections": [],
      "include_colab_link": true
    },
    "kernelspec": {
      "display_name": "Python 3",
      "language": "python",
      "name": "python3"
    }
  },
  "cells": [
    {
      "cell_type": "markdown",
      "metadata": {
        "id": "view-in-github",
        "colab_type": "text"
      },
      "source": [
        "<a href=\"https://colab.research.google.com/gist/joshuajcarson/70ea9d89c7baae607358a5efaaa5260b/myjohndeere-api-onboarding.ipynb\" target=\"_parent\"><img src=\"https://colab.research.google.com/assets/colab-badge.svg\" alt=\"Open In Colab\"/></a>"
      ]
    },
    {
      "metadata": {
        "id": "MKtxTwD8clVy",
        "colab_type": "text"
      },
      "cell_type": "markdown",
      "source": [
        "# MyJohnDeere API Onboarding#\n",
        "Create a John Deere account, build your first application on developer.deere.com, learn how to create test data, learn how to connect with more test data, and make your first API calls\n",
        "\n",
        "**Note - This notebook requires that you be logged into Google.**\n"
      ]
    },
    {
      "metadata": {
        "id": "vW-P6VvSkIUQ",
        "colab_type": "text"
      },
      "cell_type": "markdown",
      "source": [
        "##Creating a John Deere account##"
      ]
    },
    {
      "metadata": {
        "id": "YN-pNCfsew6j",
        "colab_type": "text"
      },
      "cell_type": "markdown",
      "source": [
        "###Create an account with John Deere. Go to https://myjohndeere.com to get started###\n",
        "![MyJohnDeere Login Page](https://github.com/joshuajcarson/DevelopWithDeereOnboardingPictures/raw/master/MyJohnDeereLogin.jpg)"
      ]
    },
    {
      "metadata": {
        "id": "30hdi4aGURdh",
        "colab_type": "text"
      },
      "cell_type": "markdown",
      "source": [
        "###Start the account creation process, open the validation email to continue###\n",
        "![Validation Email](https://github.com/joshuajcarson/DevelopWithDeereOnboardingPictures/raw/master/ValidationEmail.jpg)"
      ]
    },
    {
      "metadata": {
        "id": "jfb4ELXxU5CA",
        "colab_type": "text"
      },
      "cell_type": "markdown",
      "source": [
        "###Finish validation. Now you have a John Deere account###\n",
        "![Finish Validation](https://github.com/joshuajcarson/DevelopWithDeereOnboardingPictures/raw/master/FinishValidationScreen.jpg)"
      ]
    },
    {
      "metadata": {
        "id": "mJz2iZIKVZnu",
        "colab_type": "text"
      },
      "cell_type": "markdown",
      "source": [
        "##Register an application on developer.deere.com##"
      ]
    },
    {
      "metadata": {
        "id": "cxA2BFJ5Vgdw",
        "colab_type": "text"
      },
      "cell_type": "markdown",
      "source": [
        "###Go to https://developer.deere.com, sign the 'Terms Of Use' for first time users###\n",
        "\n",
        "developer.deere.com and find the log in on the top right\n",
        "![Login With dd.com](https://github.com/joshuajcarson/DevelopWithDeereOnboardingPictures/raw/master/developerdeereWithLogin.jpg)\n",
        "\n",
        "Accept the 'Terms Of Use'\n",
        "![Signing Terms](https://github.com/joshuajcarson/DevelopWithDeereOnboardingPictures/raw/master/SigningTermsOnDeveloperDeere.jpg)"
      ]
    },
    {
      "metadata": {
        "id": "X7pRa_PsV_jg",
        "colab_type": "text"
      },
      "cell_type": "markdown",
      "source": [
        "###Create an application, filling out the application with your application profile information###\n",
        "\n",
        "Applications are available from the user dropdown in the top right\n",
        "![Applications Link](https://github.com/joshuajcarson/DevelopWithDeereOnboardingPictures/raw/master/FindApplications.jpg)\n",
        "\n",
        "New applications can be created from the 'Applications' screen of the user\n",
        "![Create Application Screen](https://github.com/joshuajcarson/DevelopWithDeereOnboardingPictures/raw/master/CreateApplicatoin.jpg)\n",
        "\n",
        "Newly created application\n",
        "![Newly Created Application](https://github.com/joshuajcarson/DevelopWithDeereOnboardingPictures/raw/master/NewlyCreatedApp.jpg)"
      ]
    },
    {
      "metadata": {
        "id": "HaEbCsR4WeZJ",
        "colab_type": "text"
      },
      "cell_type": "markdown",
      "source": [
        "###Within the John Deere system, newly created application take up to 20 minutes to fully sync. If you notice any 400 errors while attempting to do OAuth, the process has not completed###\n",
        "![400 Error For Uncomplete Creation](https://github.com/joshuajcarson/DevelopWithDeereOnboardingPictures/raw/master/ASyncJobNotFinished.jpg)"
      ]
    },
    {
      "metadata": {
        "id": "W4r8rcD9W8Ey",
        "colab_type": "text"
      },
      "cell_type": "markdown",
      "source": [
        "##Create an organization within John Deere Operations Center##"
      ]
    },
    {
      "metadata": {
        "id": "c9L2UUHmXAZg",
        "colab_type": "text"
      },
      "cell_type": "markdown",
      "source": [
        "###John Deere Operations Center is the flagship farm management solution from John Deere. Find it on MyJohnDeere###\n",
        "![MyJohnDeere and Operations Center](https://github.com/joshuajcarson/DevelopWithDeereOnboardingPictures/raw/master/FindingOperationsCenterOnMyJohnDeere.jpg)"
      ]
    },
    {
      "metadata": {
        "id": "waiD2Jr9XfSB",
        "colab_type": "text"
      },
      "cell_type": "markdown",
      "source": [
        "###Organizations are a core concept within John Deere Operations Center. Almost all data is managed within the context of an organization. An organization must be created in order to use John Deere Operations Center###\n",
        "![Create Organization](https://github.com/joshuajcarson/DevelopWithDeereOnboardingPictures/raw/master/CreateNewOrganization.jpg)"
      ]
    },
    {
      "metadata": {
        "id": "y0i6XHVcXywR",
        "colab_type": "text"
      },
      "cell_type": "markdown",
      "source": [
        "###Organizations do not default with any data.###\n",
        "![Empty Organization](https://github.com/joshuajcarson/DevelopWithDeereOnboardingPictures/raw/master/EmptyOrganization.jpg)"
      ]
    },
    {
      "metadata": {
        "id": "hboxV_HIX8KF",
        "colab_type": "text"
      },
      "cell_type": "markdown",
      "source": [
        "###Data must be added to an organization to act as an effective test organization for development. Go to the Files tool to start the uploading process###\n",
        "\n",
        "Tools can be found in the primary header of John Deere Operations Center\n",
        "\n",
        "![Finding Tools](https://github.com/joshuajcarson/DevelopWithDeereOnboardingPictures/raw/master/FindingTools.jpg)\n",
        "\n",
        "Files can be found within the Tools area\n",
        "![Finding Files](https://github.com/joshuajcarson/DevelopWithDeereOnboardingPictures/raw/master/FindingFiles.jpg)\n",
        "\n",
        "Be default, there is no files in any organizations Files tool\n",
        "![Files Empty](https://github.com/joshuajcarson/DevelopWithDeereOnboardingPictures/raw/master/FilesEmpty.jpg)"
      ]
    },
    {
      "metadata": {
        "id": "cFjb1HacYWh-",
        "colab_type": "text"
      },
      "cell_type": "markdown",
      "source": [
        "###Sample files to upload exist on John Deere's Github account. Go to https://github.com/JohnDeere and find the \"SampleData\" repository. Begin downloading the sample files###\n",
        "\n",
        "John Deere has a public Github page filled with sample applications for use with the John Deere APIs, sample data to help with using the John Deere APIs, as well as John Deere's open source projects\n",
        "![John Deere Github](https://github.com/joshuajcarson/DevelopWithDeereOnboardingPictures/raw/master/JohnDeereGithub.jpg)\n",
        "\n",
        "Sample data can be downloaded from the \"Sample Data\" repo. It is recommended that you download the [GS3 - 2630 Setup With Boundary And Guidance Lines.zip](https://github.com/JohnDeere/SampleData/blob/master/Display%20data/GS3%20-%202630%20Setup%20With%20Boundary%20And%20Guidance%20Lines.zip), [Gen4 - 4600 Harvest Data.zip](https://github.com/JohnDeere/SampleData/blob/master/Display%20data/Gen4%20-%204600%20Harvest%20Data.zip), and [Gen4 - 4600 Planting Data](https://github.com/JohnDeere/SampleData/blob/master/Display%20data/Gen4%20-%204600%20Planting%20Data.zip)\n",
        "![Downloading Sample Data](https://github.com/joshuajcarson/DevelopWithDeereOnboardingPictures/raw/master/DownloadingSampleData.jpg)\n"
      ]
    },
    {
      "metadata": {
        "id": "7WlZ58PAZYQl",
        "colab_type": "text"
      },
      "cell_type": "markdown",
      "source": [
        "###Begin uploading the sample files into the Files tool on John Deere Operations Center. File processing can take some time.###\n",
        "\n",
        "Files are grayed out and inaccessible before they have finished processing\n",
        "![Files Started Uploading](https://github.com/joshuajcarson/DevelopWithDeereOnboardingPictures/raw/master/FilesUploaded.jpg)\n",
        "\n",
        "Files are selectable and more details can be discovered after they have finished processing\n",
        "![Files Processed](https://github.com/joshuajcarson/DevelopWithDeereOnboardingPictures/raw/master/FilesProcessed.jpg)"
      ]
    },
    {
      "metadata": {
        "id": "iTJNC4u0Z3im",
        "colab_type": "text"
      },
      "cell_type": "markdown",
      "source": [
        "###Review the Fields panel on the map to see some of the agronomic data after the files have been processed###\n",
        "![Fields Processed](https://github.com/joshuajcarson/DevelopWithDeereOnboardingPictures/raw/master/FieldsProcessedFromFiles.jpg)"
      ]
    },
    {
      "metadata": {
        "id": "NlkTGab6dUz3",
        "colab_type": "text"
      },
      "cell_type": "markdown",
      "source": [
        "##Use the newly created application for the first time##"
      ]
    },
    {
      "metadata": {
        "id": "4OuFOBbAdYkk",
        "colab_type": "text"
      },
      "cell_type": "markdown",
      "source": [
        "###Go back to your application on developer.deere.com and go to the Test Client###\n",
        "![Test Client](https://github.com/joshuajcarson/DevelopWithDeereOnboardingPictures/raw/master/TestClientAndSecurityForApp.jpg)"
      ]
    },
    {
      "metadata": {
        "id": "q-Dh1XcqdonY",
        "colab_type": "text"
      },
      "cell_type": "markdown",
      "source": [
        "###Follow the Security process. Allow the popup when your popup blocker stops the OAuth approval process###\n",
        "![OAuth Approval Screen](https://github.com/joshuajcarson/DevelopWithDeereOnboardingPictures/raw/master/OAuthScreen.jpg)"
      ]
    },
    {
      "metadata": {
        "id": "n-fejmQId4Zf",
        "colab_type": "text"
      },
      "cell_type": "markdown",
      "source": [
        "###Use the Test Client to make your first successful call to the API Catalog###\n",
        "![API Catalog Call](https://github.com/joshuajcarson/DevelopWithDeereOnboardingPictures/raw/master/FirstSuccessfulCallToCatalog.jpg)"
      ]
    },
    {
      "metadata": {
        "id": "OfcoClSNhkRd",
        "colab_type": "text"
      },
      "cell_type": "markdown",
      "source": [
        "#Call the APIs using code for the first time#"
      ]
    },
    {
      "metadata": {
        "id": "XG6dagr9beFu",
        "colab_type": "text"
      },
      "cell_type": "markdown",
      "source": [
        "##Client configuration##"
      ]
    },
    {
      "metadata": {
        "id": "UOCXHFmveq_e",
        "colab_type": "text"
      },
      "cell_type": "markdown",
      "source": [
        "Using the application you just created on https://developer.deere.com, copy the \"App Id\" and \"Shared Secret\" and put those in for the `client_key` and `client_secret` values\n"
      ]
    },
    {
      "metadata": {
        "id": "bznx_6dIh6rx",
        "colab_type": "text"
      },
      "cell_type": "markdown",
      "source": [
        "![Newly Created App](https://github.com/joshuajcarson/DevelopWithDeereOnboardingPictures/raw/master/NewlyCreatedApp.jpg)"
      ]
    },
    {
      "metadata": {
        "id": "n6CVExreclV3",
        "colab_type": "code",
        "colab": {}
      },
      "cell_type": "code",
      "source": [
        "client_key = 'place_client_key_here'\n",
        "client_secret = 'place_client_secret_here'\n",
        "assert(client_key != 'place_client_key_here' and client_secret != 'place_client_secret_here'), \"You need to update your client_key and client_secret in this cell\""
      ],
      "execution_count": 0,
      "outputs": []
    },
    {
      "metadata": {
        "id": "mcocANvEclWC",
        "colab_type": "text"
      },
      "cell_type": "markdown",
      "source": [
        "## imports\n",
        "[`requests`](http://docs.python-requests.org/en/master/) is a popular Python library for making HTTP requests\n",
        "\n",
        "[`requests_oauthlib`](https://requests-oauthlib.readthedocs.io/en/latest/) is a popular Python library that uses `requests` for working with OAuth. We'll use the OAuth1Session part of that library for working with the MyJohnDeere API"
      ]
    },
    {
      "metadata": {
        "id": "yOoT1d_bclWF",
        "colab_type": "code",
        "colab": {}
      },
      "cell_type": "code",
      "source": [
        "from requests_oauthlib import OAuth1Session"
      ],
      "execution_count": 0,
      "outputs": []
    },
    {
      "metadata": {
        "id": "mdWKKUy-clWR",
        "colab_type": "text"
      },
      "cell_type": "markdown",
      "source": [
        "##MyJohnDeere API Base Configurations##"
      ]
    },
    {
      "metadata": {
        "id": "Uq6AIB7uic5F",
        "colab_type": "text"
      },
      "cell_type": "markdown",
      "source": [
        "We set the OAuth 1.0a URLs as found at https://developer.deere.com/#!documentation&doc=myjohndeere%2FoAuth.htm&anchor= so that we can complete the OAuth 1.0a flows."
      ]
    },
    {
      "metadata": {
        "id": "QUndY98ZclWU",
        "colab_type": "code",
        "colab": {}
      },
      "cell_type": "code",
      "source": [
        "request_url = 'https://sandboxapi.deere.com/platform/oauth/request_token'\n",
        "authorize_url = 'https://my.deere.com/consentToUseOfData'\n",
        "access_token_url = 'https://sandboxapi.deere.com/platform/oauth/access_token'"
      ],
      "execution_count": 0,
      "outputs": []
    },
    {
      "metadata": {
        "id": "T1lpA8gfYQvi",
        "colab_type": "text"
      },
      "cell_type": "markdown",
      "source": [
        "The MyJohnDeere API uses custom `Accept` and `Content-type` headers. The headers allowed are listed in the individual reference material section of each API. Almost all endpoints in the MyJohnDeere API support `application/vnd.deere.axiom.v3+json`, so we'll create a convience variable that makes using this in our HTTP requests more easily."
      ]
    },
    {
      "metadata": {
        "id": "xXmyyjowclWf",
        "colab_type": "code",
        "colab": {}
      },
      "cell_type": "code",
      "source": [
        "MYJOHNDEERE_V3_JSON_HEADERS = {'Accept': 'application/vnd.deere.axiom.v3+json',\n",
        "               'Content-Type': 'application/vnd.deere.axiom.v3+json'}"
      ],
      "execution_count": 0,
      "outputs": []
    },
    {
      "metadata": {
        "id": "PrSRYxK5clXe",
        "colab_type": "text"
      },
      "cell_type": "markdown",
      "source": [
        "##Create an OAuth 1.0a session with the MyJohnDeere API##"
      ]
    },
    {
      "metadata": {
        "id": "0OysPD2LaGFg",
        "colab_type": "text"
      },
      "cell_type": "markdown",
      "source": [
        "We at John Deere always recommend that all our integrators find a library in their language of choice that can handle the OAuth 1.0a aspect of working with the MyJohnDeere API. Below, we'll be following the guide for [`requests-oauthlib`](https://requests-oauthlib.readthedocs.io/en/latest/oauth1_workflow.html) until we have successfully created an OAuth session for our application."
      ]
    },
    {
      "metadata": {
        "id": "iJhjaJQ3ioMv",
        "colab_type": "text"
      },
      "cell_type": "markdown",
      "source": [
        "Setting the `callback_uri` to `oob` allows for the OAuth 1.0a process to finish without this notebook having to have a server up. This is also the experience that desktop applications using the MyJohnDeere API have to do. In a web or mobile application, fill out `callback_uri` with the server that your application is hosting that can handle OAuth requests. You can learn more about oob and callbacks at https://oauth.net/core/1.0a/#auth_step1"
      ]
    },
    {
      "metadata": {
        "id": "yizbiJNPmC3G",
        "colab_type": "code",
        "colab": {}
      },
      "cell_type": "code",
      "source": [
        "oauth_request_token_step = OAuth1Session(client_key, client_secret=client_secret, callback_uri='oob')\n",
        "request_token_response = oauth_request_token_step.fetch_request_token(request_url)\n",
        "resource_owner_key = request_token_response.get('oauth_token')\n",
        "resource_owner_secret = request_token_response.get('oauth_token_secret')\n",
        "\"Resource Owner Key: \" + resource_owner_key + \" and Resource Owner Secret: \" + resource_owner_secret"
      ],
      "execution_count": 0,
      "outputs": []
    },
    {
      "metadata": {
        "id": "9UdwapxgnLRF",
        "colab_type": "code",
        "colab": {}
      },
      "cell_type": "code",
      "source": [
        "complete_authorize_url = authorize_url + '?oauth_token=' + resource_owner_key\n",
        "\"Click On \" + complete_authorize_url + \" and paste the results in the next cell as the verifier variable\""
      ],
      "execution_count": 0,
      "outputs": []
    },
    {
      "metadata": {
        "id": "U-LkfpkojCAK",
        "colab_type": "text"
      },
      "cell_type": "markdown",
      "source": [
        "Follow the link from the results of the cell above, and copy the \"Verifier\" from that screen into the cell below. Using the example screen below, our verifier in the last step would be `RAOLoq`\n",
        "\n",
        "![Verifier Screen](https://github.com/joshuajcarson/DevelopWithDeereOnboardingPictures/raw/master/VerifierScreen.jpg)"
      ]
    },
    {
      "metadata": {
        "id": "kfEi_F4WuDut",
        "colab_type": "code",
        "colab": {}
      },
      "cell_type": "code",
      "source": [
        "verifier = 'place_verifier_here'\n",
        "assert(verifier != 'place_verifier_here'), 'The verifier in this cell must be replaced by the verifier that you should get from John Deere Operations Center'\n"
      ],
      "execution_count": 0,
      "outputs": []
    },
    {
      "metadata": {
        "id": "YqeT1efJuMVW",
        "colab_type": "code",
        "colab": {}
      },
      "cell_type": "code",
      "source": [
        "oauth_verifier_step = OAuth1Session(client_key,\n",
        "                          client_secret=client_secret,\n",
        "                          resource_owner_key=resource_owner_key,\n",
        "                          resource_owner_secret=resource_owner_secret,\n",
        "                          verifier=verifier)\n",
        "oauth_tokens = oauth_verifier_step.fetch_access_token(access_token_url)\n",
        "resource_owner_key = oauth_tokens.get('oauth_token')\n",
        "resource_owner_secret = oauth_tokens.get('oauth_token_secret')"
      ],
      "execution_count": 0,
      "outputs": []
    },
    {
      "metadata": {
        "id": "aoOpBBXixeI5",
        "colab_type": "code",
        "colab": {}
      },
      "cell_type": "code",
      "source": [
        "oauth_session = OAuth1Session(client_key, client_secret=client_secret, resource_owner_key=resource_owner_key, resource_owner_secret=resource_owner_secret)"
      ],
      "execution_count": 0,
      "outputs": []
    },
    {
      "metadata": {
        "id": "Cv7CJh-n2HtH",
        "colab_type": "text"
      },
      "cell_type": "markdown",
      "source": [
        "##Verify that session creation worked correctly with your first MyJohnDeere API call##"
      ]
    },
    {
      "metadata": {
        "id": "62MNdbsmeIwT",
        "colab_type": "text"
      },
      "cell_type": "markdown",
      "source": [
        "The [API Catalog](https://developer.deere.com/#!documentation&doc=myjohndeere%2FapiCatalog.htm&anchor=) is the default start that most API sessions with the MyJohnDeere API should begin. The MyJohnDeere API is designed to be [`discoverable`](https://www.baeldung.com/restful-web-service-discoverability). This means that your application should be able to start a session at the API Catalog and find everything else your application needs for your feature via [`links`](https://developer.deere.com/#!documentation&doc=.%2Fmyjohndeere%2Flinks.htm&anchor=)"
      ]
    },
    {
      "metadata": {
        "id": "KlxxLCALqBPF",
        "colab_type": "text"
      },
      "cell_type": "markdown",
      "source": [
        "Below we're going to use our `requests_oauthlib` library in order to make a call to the `API Catalog` of the MyJohnDeere API. We will then look at the response overall to see what is in the `API Catalog`"
      ]
    },
    {
      "metadata": {
        "id": "bQ9bd8O-zzYp",
        "colab_type": "code",
        "colab": {}
      },
      "cell_type": "code",
      "source": [
        "api_catalog_url = 'https://sandboxapi.deere.com/platform/'\n",
        "\n",
        "api_catalog_response = oauth_session.get(api_catalog_url, headers=MYJOHNDEERE_V3_JSON_HEADERS)"
      ],
      "execution_count": 0,
      "outputs": []
    },
    {
      "metadata": {
        "id": "PCfUxJCaa7dO",
        "colab_type": "text"
      },
      "cell_type": "markdown",
      "source": [
        "The `API Catalog` contains an array of `links` that can help you discover yet more parts of the MyJohnDeere API"
      ]
    },
    {
      "metadata": {
        "id": "4ozvO2scrM4x",
        "colab_type": "code",
        "colab": {}
      },
      "cell_type": "code",
      "source": [
        "api_catalog_response.json()"
      ],
      "execution_count": 0,
      "outputs": []
    },
    {
      "metadata": {
        "id": "SoF7r6okgcPA",
        "colab_type": "text"
      },
      "cell_type": "markdown",
      "source": [
        "We follow the standard [HTTP status codes ](https://en.wikipedia.org/wiki/List_of_HTTP_status_codes) with our API responses. You should see a 200 response within the following cell. This means, \"The call was successful and there is a response body\""
      ]
    },
    {
      "metadata": {
        "id": "VSm8OLl8tYcR",
        "colab_type": "code",
        "colab": {}
      },
      "cell_type": "code",
      "source": [
        "api_catalog_response.status_code"
      ],
      "execution_count": 0,
      "outputs": []
    },
    {
      "metadata": {
        "id": "9cjMCuVlpVmw",
        "colab_type": "text"
      },
      "cell_type": "markdown",
      "source": [
        "MyJohnDeere API includes support for a variety of headers, both for requests coming into the MyJohnDeere API as well as responses coming from the MyJohnDeere API. Below we'll look at the headers being returned by the MyJohnDeere API"
      ]
    },
    {
      "metadata": {
        "id": "eeaARGppt36Z",
        "colab_type": "code",
        "colab": {}
      },
      "cell_type": "code",
      "source": [
        "api_catalog_response.headers"
      ],
      "execution_count": 0,
      "outputs": []
    },
    {
      "metadata": {
        "id": "4OsOvwqlqeyX",
        "colab_type": "text"
      },
      "cell_type": "markdown",
      "source": [
        "###Follow the `organizations` link from the `API Catalog`###"
      ]
    },
    {
      "metadata": {
        "id": "8AJG8h-qqlF1",
        "colab_type": "text"
      },
      "cell_type": "markdown",
      "source": [
        "We'll find the `links` array in the API Catalog, find the specific link for the `organizations`, then follow that link with another `GET` call. First, we'll get the links from the `API Catalog`"
      ]
    },
    {
      "metadata": {
        "id": "m3vhsmOwq-17",
        "colab_type": "code",
        "colab": {}
      },
      "cell_type": "code",
      "source": [
        "links_array_from_api_catalog_response = api_catalog_response.json()['links']\n",
        "links_array_from_api_catalog_response"
      ],
      "execution_count": 0,
      "outputs": []
    },
    {
      "metadata": {
        "id": "TLI-f8rpsH2F",
        "colab_type": "text"
      },
      "cell_type": "markdown",
      "source": [
        "We will now go through all of the links that are available to find the link for the `organizations`. The `rel` attribute tells us what the link represents while the `uri` attributes tells us where within the MyJohnDeere API to go to discover those resources"
      ]
    },
    {
      "metadata": {
        "id": "HDHSFWTMrjGH",
        "colab_type": "code",
        "colab": {}
      },
      "cell_type": "code",
      "source": [
        "organizations_link = None\n",
        "\n",
        "for link_object in links_array_from_api_catalog_response:\n",
        "  if(link_object['rel'] == 'organizations'):\n",
        "    organizations_link = link_object['uri']\n",
        "    break;\n",
        "    \n",
        "organizations_link"
      ],
      "execution_count": 0,
      "outputs": []
    },
    {
      "metadata": {
        "id": "tNcDfyi_tAk_",
        "colab_type": "text"
      },
      "cell_type": "markdown",
      "source": [
        "Using the same OAuth session object as before, we'll make another `GET` call, only this time to the `organizations` link that we discovered from the `API Catalog`"
      ]
    },
    {
      "metadata": {
        "id": "-BBbgkBVsAr_",
        "colab_type": "code",
        "colab": {}
      },
      "cell_type": "code",
      "source": [
        "organizations_response = oauth_session.get(organizations_link, headers = MYJOHNDEERE_V3_JSON_HEADERS)"
      ],
      "execution_count": 0,
      "outputs": []
    },
    {
      "metadata": {
        "id": "_R21BCFr4L2K",
        "colab_type": "text"
      },
      "cell_type": "markdown",
      "source": [
        "Unlike the `API Catalog`, this response contains an object with attributes and links. Below we can see the `JSON` response and see things like the name of the organization as well as if the logged in user is a staff member of that organization."
      ]
    },
    {
      "metadata": {
        "id": "mb09KfX6qDr5",
        "colab_type": "code",
        "colab": {}
      },
      "cell_type": "code",
      "source": [
        "organizations_response.json()"
      ],
      "execution_count": 0,
      "outputs": []
    },
    {
      "metadata": {
        "id": "zgiY01YY4a5g",
        "colab_type": "code",
        "colab": {}
      },
      "cell_type": "code",
      "source": [
        ""
      ],
      "execution_count": 0,
      "outputs": []
    }
  ]
}